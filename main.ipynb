{
 "cells": [
  {
   "cell_type": "code",
   "execution_count": 1,
   "metadata": {
    "execution": {
     "iopub.execute_input": "2024-03-03T07:01:36.174371Z",
     "iopub.status.busy": "2024-03-03T07:01:36.173935Z",
     "iopub.status.idle": "2024-03-03T07:01:36.387029Z",
     "shell.execute_reply": "2024-03-03T07:01:36.386005Z",
     "shell.execute_reply.started": "2024-03-03T07:01:36.174340Z"
    }
   },
   "outputs": [],
   "source": [
    "import numpy as np\n",
    "import scipy as sp\n",
    "import scipy.sparse as sparse"
   ]
  },
  {
   "cell_type": "code",
   "execution_count": 2,
   "metadata": {
    "execution": {
     "iopub.execute_input": "2024-03-03T07:01:36.389410Z",
     "iopub.status.busy": "2024-03-03T07:01:36.388546Z",
     "iopub.status.idle": "2024-03-03T07:01:36.396395Z",
     "shell.execute_reply": "2024-03-03T07:01:36.394784Z",
     "shell.execute_reply.started": "2024-03-03T07:01:36.389366Z"
    }
   },
   "outputs": [],
   "source": [
    "N = 3\n",
    "epsilon = 1\n",
    "J = 3\n",
    "\n",
    "pauli_z = sparse.dia_matrix(np.array([[1, 0],\n",
    "                                      [0, -1]]))"
   ]
  },
  {
   "cell_type": "code",
   "execution_count": 3,
   "metadata": {
    "execution": {
     "iopub.execute_input": "2024-03-03T07:01:36.404020Z",
     "iopub.status.busy": "2024-03-03T07:01:36.401367Z",
     "iopub.status.idle": "2024-03-03T07:01:36.413368Z",
     "shell.execute_reply": "2024-03-03T07:01:36.411618Z",
     "shell.execute_reply.started": "2024-03-03T07:01:36.403968Z"
    }
   },
   "outputs": [],
   "source": [
    "def n_identities(n: int):\n",
    "    \"\"\"Gives a tensor made out of the tensor product on 'n' identity matrices.\n",
    "\n",
    "    Args:\n",
    "        n (int): the number of identity matrices\n",
    "\n",
    "    Returns:\n",
    "        np.ndarray: the resultant matrix (tensor)\n",
    "    \"\"\"\n",
    "    return sparse.identity(2**n) if (n > 0) else 1"
   ]
  },
  {
   "cell_type": "markdown",
   "metadata": {},
   "source": [
    "$$\\mathbf{A}_i = \\underbrace{\\overbrace{\\mathbf{I} \\otimes \\mathbf{I} \\otimes \\ldots}^{i - 1\\ \\text{operators}} \\otimes \\sigma^z \\otimes \\overbrace{\\ldots \\otimes \\mathbf{I} \\otimes \\mathbf{I}}^{N - 1\\ \\text{operators}}}_{N\\ \\text{operators}}$$"
   ]
  },
  {
   "cell_type": "code",
   "execution_count": 4,
   "metadata": {
    "execution": {
     "iopub.execute_input": "2024-03-03T07:01:36.421064Z",
     "iopub.status.busy": "2024-03-03T07:01:36.418363Z",
     "iopub.status.idle": "2024-03-03T07:01:36.437780Z",
     "shell.execute_reply": "2024-03-03T07:01:36.436501Z",
     "shell.execute_reply.started": "2024-03-03T07:01:36.421016Z"
    }
   },
   "outputs": [],
   "source": [
    "# A list to store the operators A\n",
    "A_ops = []\n",
    "for i in range(1, N+1):\n",
    "    A_i = sparse.kron(sparse.kron(n_identities(i-1), pauli_z), n_identities(N-i))\n",
    "    A_ops.append(A_i)\n",
    "\n",
    "A_ops = np.array(A_ops)"
   ]
  },
  {
   "cell_type": "markdown",
   "metadata": {},
   "source": [
    "$$\\mathbf{H} = \\epsilon \\sum_{i}^{N} \\mathbf{A}_i +J \\sum_{\\left< i j \\right>} \\mathbf{A}_i \\mathbf{A}_{i + 1}$$"
   ]
  },
  {
   "cell_type": "code",
   "execution_count": 5,
   "metadata": {
    "execution": {
     "iopub.execute_input": "2024-03-03T07:01:36.451040Z",
     "iopub.status.busy": "2024-03-03T07:01:36.446810Z",
     "iopub.status.idle": "2024-03-03T07:01:36.463102Z",
     "shell.execute_reply": "2024-03-03T07:01:36.462155Z",
     "shell.execute_reply.started": "2024-03-03T07:01:36.450984Z"
    }
   },
   "outputs": [
    {
     "name": "stdout",
     "output_type": "stream",
     "text": [
      "Hamiltonian =\n",
      "   (0, 0)\t12.0\n",
      "  (1, 1)\t-2.0\n",
      "  (2, 2)\t-2.0\n",
      "  (3, 3)\t-4.0\n",
      "  (4, 4)\t-2.0\n",
      "  (5, 5)\t-4.0\n",
      "  (6, 6)\t-4.0\n",
      "  (7, 7)\t6.0\n"
     ]
    }
   ],
   "source": [
    "# Creating the Hamiltonian\n",
    "H = sparse.dia_matrix((2**N, 2**N), dtype=float)\n",
    "for i in range(N):\n",
    "    H += epsilon * A_ops[i] + J * (A_ops[i] @ A_ops[i+1 if (i+1 < N) else 0])\n",
    "\n",
    "print(\"Hamiltonian =\\n\", H)"
   ]
  },
  {
   "cell_type": "code",
   "execution_count": 6,
   "metadata": {
    "editable": true,
    "execution": {
     "iopub.execute_input": "2024-03-03T07:01:36.464679Z",
     "iopub.status.busy": "2024-03-03T07:01:36.464299Z",
     "iopub.status.idle": "2024-03-03T07:01:36.472596Z",
     "shell.execute_reply": "2024-03-03T07:01:36.471919Z",
     "shell.execute_reply.started": "2024-03-03T07:01:36.464642Z"
    },
    "slideshow": {
     "slide_type": ""
    },
    "tags": []
   },
   "outputs": [
    {
     "name": "stdout",
     "output_type": "stream",
     "text": [
      "E_0 degeneracy =\n",
      " 3 (at least)\n",
      "E_0 =\n",
      " -4.0\n"
     ]
    }
   ],
   "source": [
    "# Getting the smallest eigenvalues and their corresponding eigenvectors\n",
    "eig_vals, eig_vecs = sparse.linalg.eigs(H, which='SR')\n",
    "\n",
    "# Turning (2**N, 6) eig_vecs into (6, 2**N)\n",
    "eig_vecs = eig_vecs.T\n",
    "# Removing unnecessary computed values\n",
    "eig_vecs[abs(eig_vecs) < 1e-10] = 0\n",
    "eig_vals = np.round(eig_vals, decimals=10)\n",
    "\n",
    "# The lowest energy\n",
    "E_0 = np.real(np.min(eig_vals))\n",
    "# The state with the lowest energy\n",
    "psi_0 = eig_vecs[eig_vals == E_0].T\n",
    "\n",
    "psi_0_row, psi_0_col = psi_0.shape\n",
    "# Degeneracy handler\n",
    "if psi_0_col > 1:\n",
    "    # Setting the first state as the ground state\n",
    "    psi_0 = psi_0[:,0].reshape(-1, 1)\n",
    "    # scipy.sparse.linalg.eigs gives only 6 eigenvalues.\n",
    "    #The degeneracy can be more than that\n",
    "    print(\"E_0 degeneracy =\\n\", psi_0_col, \"(at least)\")\n",
    "\n",
    "print(\"E_0 =\\n\", E_0)"
   ]
  },
  {
   "cell_type": "markdown",
   "metadata": {},
   "source": [
    "$$\\mathbf{M} = \\sum_{i = 1}^{N} \\mathbf{A}_i, \\quad M_0 = \\left< \\psi_0 \\right| \\mathbf{M} \\left| \\psi_0 \\right>$$"
   ]
  },
  {
   "cell_type": "code",
   "execution_count": 7,
   "metadata": {
    "execution": {
     "iopub.execute_input": "2024-03-03T07:01:36.473543Z",
     "iopub.status.busy": "2024-03-03T07:01:36.473349Z",
     "iopub.status.idle": "2024-03-03T07:01:36.478641Z",
     "shell.execute_reply": "2024-03-03T07:01:36.477749Z",
     "shell.execute_reply.started": "2024-03-03T07:01:36.473523Z"
    }
   },
   "outputs": [
    {
     "name": "stdout",
     "output_type": "stream",
     "text": [
      "M =\n",
      " -0.9999999999999996\n"
     ]
    }
   ],
   "source": [
    "# Magnetization operator\n",
    "M_op = A_ops.sum()\n",
    "M = psi_0.conjugate().T @ M_op @ psi_0\n",
    "if M.shape == (1, 1):\n",
    "    M = np.real(M[0,0])\n",
    "\n",
    "print(\"M =\\n\", M)"
   ]
  },
  {
   "cell_type": "code",
   "execution_count": null,
   "metadata": {},
   "outputs": [],
   "source": []
  }
 ],
 "metadata": {
  "kernelspec": {
   "display_name": "Python 3 (ipykernel)",
   "language": "python",
   "name": "python3"
  },
  "language_info": {
   "codemirror_mode": {
    "name": "ipython",
    "version": 3
   },
   "file_extension": ".py",
   "mimetype": "text/x-python",
   "name": "python",
   "nbconvert_exporter": "python",
   "pygments_lexer": "ipython3",
   "version": "3.10.12"
  }
 },
 "nbformat": 4,
 "nbformat_minor": 4
}
