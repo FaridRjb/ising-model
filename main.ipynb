{
 "cells": [
  {
   "cell_type": "code",
   "execution_count": 1,
   "metadata": {
    "editable": true,
    "execution": {
     "iopub.execute_input": "2024-03-09T16:33:52.836319Z",
     "iopub.status.busy": "2024-03-09T16:33:52.835239Z",
     "iopub.status.idle": "2024-03-09T16:33:53.535602Z",
     "shell.execute_reply": "2024-03-09T16:33:53.533202Z",
     "shell.execute_reply.started": "2024-03-09T16:33:52.836237Z"
    },
    "scene__Initialization": true,
    "slideshow": {
     "slide_type": ""
    }
   },
   "outputs": [],
   "source": [
    "import numpy as np\n",
    "import scipy.sparse as sparse"
   ]
  },
  {
   "cell_type": "code",
   "execution_count": 2,
   "metadata": {
    "execution": {
     "iopub.execute_input": "2024-03-09T16:33:53.539286Z",
     "iopub.status.busy": "2024-03-09T16:33:53.538427Z",
     "iopub.status.idle": "2024-03-09T16:33:53.551555Z",
     "shell.execute_reply": "2024-03-09T16:33:53.549049Z",
     "shell.execute_reply.started": "2024-03-09T16:33:53.539213Z"
    },
    "scene__Initialization": true
   },
   "outputs": [],
   "source": [
    "def record_output(file: str, vars: list):\n",
    "    f = open(file, 'a')\n",
    "    t = ','.join(np.array(vars).astype(str)) + '\\n'\n",
    "    f.write(t)\n",
    "    f.close()"
   ]
  },
  {
   "cell_type": "code",
   "execution_count": 3,
   "metadata": {
    "editable": true,
    "execution": {
     "iopub.execute_input": "2024-03-09T16:33:53.554706Z",
     "iopub.status.busy": "2024-03-09T16:33:53.553977Z",
     "iopub.status.idle": "2024-03-09T16:33:53.567975Z",
     "shell.execute_reply": "2024-03-09T16:33:53.564850Z",
     "shell.execute_reply.started": "2024-03-09T16:33:53.554632Z"
    },
    "scene__Default Scene": true,
    "slideshow": {
     "slide_type": ""
    },
    "tags": [
     "ActiveScene"
    ]
   },
   "outputs": [],
   "source": [
    "# Number of rows and columns\n",
    "N_i, N_j = 10, 1\n",
    "epsilon = 0\n",
    "J = 1\n",
    "BC_type = 'PBC'\n",
    "\n",
    "pauli_z = sparse.diags_array([1, -1])"
   ]
  },
  {
   "cell_type": "code",
   "execution_count": 4,
   "metadata": {
    "editable": true,
    "execution": {
     "iopub.execute_input": "2024-03-09T16:33:53.571399Z",
     "iopub.status.busy": "2024-03-09T16:33:53.570664Z",
     "iopub.status.idle": "2024-03-09T16:33:53.582883Z",
     "shell.execute_reply": "2024-03-09T16:33:53.580475Z",
     "shell.execute_reply.started": "2024-03-09T16:33:53.571327Z"
    },
    "scene__Initialization": true,
    "slideshow": {
     "slide_type": ""
    }
   },
   "outputs": [],
   "source": [
    "def n_identities(n: int):\n",
    "    \"\"\"Gives a tensor made out of the tensor product on 'n' identity matrices.\n",
    "\n",
    "    Args:\n",
    "        n (int): the number of identity matrices\n",
    "\n",
    "    Returns:\n",
    "        np.ndarray: the resultant matrix (tensor)\n",
    "    \"\"\"\n",
    "    return sparse.identity(2**n) if (n > 0) else 1"
   ]
  },
  {
   "cell_type": "markdown",
   "metadata": {
    "editable": true,
    "slideshow": {
     "slide_type": ""
    }
   },
   "source": [
    "$$\\mathbf{A}_{i j} = \\underbrace{\\overbrace{\\mathbf{I} \\otimes \\ldots \\otimes\\mathbf{I}}^{N_j i + j\\ \\text{operators}} \\otimes \\sigma^z \\otimes \\overbrace{\\mathbf{I} \\otimes \\ldots \\otimes\\mathbf{I}}^{N_j N_i - N_j i - j - 1\\ \\text{operators}}}_{N_i N_j\\ \\text{operators}}, \\quad i,j = 0, 1, 2, \\ldots$$"
   ]
  },
  {
   "cell_type": "code",
   "execution_count": 5,
   "metadata": {
    "execution": {
     "iopub.execute_input": "2024-03-09T16:33:53.586349Z",
     "iopub.status.busy": "2024-03-09T16:33:53.585600Z",
     "iopub.status.idle": "2024-03-09T16:33:53.657872Z",
     "shell.execute_reply": "2024-03-09T16:33:53.655356Z",
     "shell.execute_reply.started": "2024-03-09T16:33:53.586275Z"
    },
    "scene__Default Scene": true,
    "tags": [
     "ActiveScene"
    ]
   },
   "outputs": [],
   "source": [
    "# A list to store the operators A\n",
    "A_ops = np.empty((N_i,N_j), dtype=sparse.coo_matrix)\n",
    "\n",
    "for i in range(N_i):\n",
    "    for j in range(N_j):\n",
    "        A_ij = sparse.kron(sparse.kron(n_identities((N_j*i)+j),\n",
    "                                       pauli_z),\n",
    "                           n_identities((N_j*N_i)-(N_j*i)-j-1))\n",
    "        A_ops[i,j] = A_ij"
   ]
  },
  {
   "cell_type": "markdown",
   "metadata": {},
   "source": [
    "$$\\mathbf{H} = \\epsilon \\sum_{i, j = 0}^{N_i - 1, N_j - 1} \\mathbf{A}_{i j} + \\frac{1}{2} J \\sum_{i, j = 0}^{N_i - 1, N_j - 1} \\mathbf{A}_{i j} (\\mathbf{A}_{i + 1, j} + \\mathbf{A}_{i - 1, j} + \\mathbf{A}_{i, j + 1} + \\mathbf{A}_{i, j - 1})$$"
   ]
  },
  {
   "cell_type": "code",
   "execution_count": 6,
   "metadata": {
    "execution": {
     "iopub.execute_input": "2024-03-09T16:33:53.669002Z",
     "iopub.status.busy": "2024-03-09T16:33:53.668183Z",
     "iopub.status.idle": "2024-03-09T16:33:53.798722Z",
     "shell.execute_reply": "2024-03-09T16:33:53.795764Z",
     "shell.execute_reply.started": "2024-03-09T16:33:53.668925Z"
    },
    "scene__Default Scene": true,
    "tags": [
     "ActiveScene"
    ]
   },
   "outputs": [
    {
     "name": "stdout",
     "output_type": "stream",
     "text": [
      "Hamiltonian =\n",
      "   (0, 0)\t20.0\n",
      "  (1, 1)\t16.0\n",
      "  (2, 2)\t16.0\n",
      "  (3, 3)\t16.0\n",
      "  (4, 4)\t16.0\n",
      "  (5, 5)\t12.0\n",
      "  (6, 6)\t16.0\n",
      "  (7, 7)\t16.0\n",
      "  (8, 8)\t16.0\n",
      "  (9, 9)\t12.0\n",
      "  (10, 10)\t12.0\n",
      "  (11, 11)\t12.0\n",
      "  (12, 12)\t16.0\n",
      "  (13, 13)\t12.0\n",
      "  (14, 14)\t16.0\n",
      "  (15, 15)\t16.0\n",
      "  (16, 16)\t16.0\n",
      "  (17, 17)\t12.0\n",
      "  (18, 18)\t12.0\n",
      "  (19, 19)\t12.0\n",
      "  (20, 20)\t12.0\n",
      "  (21, 21)\t8.0\n",
      "  (22, 22)\t12.0\n",
      "  (23, 23)\t12.0\n",
      "  (24, 24)\t16.0\n",
      "  :\t:\n",
      "  (999, 999)\t16.0\n",
      "  (1000, 1000)\t12.0\n",
      "  (1001, 1001)\t12.0\n",
      "  (1002, 1002)\t8.0\n",
      "  (1003, 1003)\t12.0\n",
      "  (1004, 1004)\t12.0\n",
      "  (1005, 1005)\t12.0\n",
      "  (1006, 1006)\t12.0\n",
      "  (1007, 1007)\t16.0\n",
      "  (1008, 1008)\t16.0\n",
      "  (1009, 1009)\t16.0\n",
      "  (1010, 1010)\t12.0\n",
      "  (1011, 1011)\t16.0\n",
      "  (1012, 1012)\t12.0\n",
      "  (1013, 1013)\t12.0\n",
      "  (1014, 1014)\t12.0\n",
      "  (1015, 1015)\t16.0\n",
      "  (1016, 1016)\t16.0\n",
      "  (1017, 1017)\t16.0\n",
      "  (1018, 1018)\t12.0\n",
      "  (1019, 1019)\t16.0\n",
      "  (1020, 1020)\t16.0\n",
      "  (1021, 1021)\t16.0\n",
      "  (1022, 1022)\t16.0\n",
      "  (1023, 1023)\t20.0\n"
     ]
    }
   ],
   "source": [
    "# Creating the Hamiltonian\n",
    "H = sparse.dia_matrix((2**(N_i*N_j), 2**(N_i*N_j)), dtype=float)\n",
    "\n",
    "match BC_type:\n",
    "    case 'PBC':\n",
    "        for i in range(N_i):\n",
    "            for j in range(N_j):\n",
    "                H += epsilon * A_ops[i,j]\n",
    "                \n",
    "                # Neighbors on the same row\n",
    "                for index in [j+1, j-1]:\n",
    "                    # If index is (i, -1), there will be no problem\n",
    "                    try:\n",
    "                        H += 0.5 * J * (A_ops[i,j] @ A_ops[i, index])\n",
    "                    # IndexError means that the index is out of bound,\n",
    "                    # so index 0 should be used.\n",
    "                    except IndexError:\n",
    "                        try:\n",
    "                            H += 0.5 * J * (A_ops[i,j] @ A_ops[i, 0])\n",
    "                        except:\n",
    "                            raise Exception('failed to find element \\\n",
    "                            ({:.0f},{:.0f}) in A_ops'.format(i, index))\n",
    "\n",
    "                # Neighbors on the same column\n",
    "                for index in [i+1, i-1]:\n",
    "                    # If index is (-1, j), there will be no problem\n",
    "                    try:\n",
    "                        H += 0.5 * J * (A_ops[i,j] @ A_ops[index, j])\n",
    "                    # IndexError means that the index is out of bound,\n",
    "                    # so index 0 should be used.\n",
    "                    except IndexError:\n",
    "                        try:\n",
    "                            H += 0.5 * J * (A_ops[i,j] @ A_ops[0, j])\n",
    "                        except:\n",
    "                            raise Exception('failed to find element \\\n",
    "                            ({:.0f},{:.0f}) in A_ops'.format(index, j))\n",
    "\n",
    "    case 'APBC':\n",
    "        for i in range(N_i):\n",
    "            for j in range(N_j):\n",
    "                H += epsilon * A_ops[i,j]\n",
    "                \n",
    "                # Neighbors on the same row\n",
    "                for index in [j+1, j-1]:\n",
    "                    # If index is (i, -1), there will be no problem\n",
    "                    try:\n",
    "                        if index == -1:\n",
    "                            H += 0.5 * J * (A_ops[i,j] @ (-A_ops[i, -1]))\n",
    "                        else:\n",
    "                            H += 0.5 * J * (A_ops[i,j] @ A_ops[i, index])\n",
    "                    # IndexError means that the index is out of bound,\n",
    "                    # so index 0 should be used.\n",
    "                    except IndexError:\n",
    "                        try:\n",
    "                            H += 0.5 * J * (A_ops[i,j] @ (-A_ops[i, 0]))\n",
    "                        except:\n",
    "                            raise Exception('failed to find element \\\n",
    "                            ({:.0f},{:.0f}) in A_ops'.format(i, index))\n",
    "    \n",
    "                # Neighbors on the same column\n",
    "                for index in [i+1, i-1]:\n",
    "                    # If index is (-1, j), there will be no problem\n",
    "                    try:\n",
    "                        if index == -1:\n",
    "                            H += 0.5 * J * (A_ops[i,j] @ (-A_ops[-1, j]))\n",
    "                        else:\n",
    "                            H += 0.5 * J * (A_ops[i,j] @ A_ops[index, j])\n",
    "                    # IndexError means that the index is out of bound,\n",
    "                    # so index 0 should be used.\n",
    "                    except IndexError:\n",
    "                        try:\n",
    "                            H += 0.5 * J * (A_ops[i,j] @ (-A_ops[0, j]))\n",
    "                        except:\n",
    "                            raise Exception('failed to find element \\\n",
    "                            ({:.0f},{:.0f}) in A_ops'.format(index, j))\n",
    "\n",
    "    case default:\n",
    "        raise Exception('BC_type is not correctly defined')\n",
    "\n",
    "print(\"Hamiltonian =\\n\", H)"
   ]
  },
  {
   "cell_type": "code",
   "execution_count": 7,
   "metadata": {
    "editable": true,
    "execution": {
     "iopub.execute_input": "2024-03-09T16:33:53.802919Z",
     "iopub.status.busy": "2024-03-09T16:33:53.802048Z",
     "iopub.status.idle": "2024-03-09T16:33:53.911639Z",
     "shell.execute_reply": "2024-03-09T16:33:53.908934Z",
     "shell.execute_reply.started": "2024-03-09T16:33:53.802842Z"
    },
    "scene__Default Scene": true,
    "slideshow": {
     "slide_type": ""
    },
    "tags": [
     "ActiveScene"
    ]
   },
   "outputs": [
    {
     "name": "stdout",
     "output_type": "stream",
     "text": [
      "E_0 degeneracy =\n",
      " 2 (at least)\n",
      "E_0 =\n",
      " 0.0\n"
     ]
    }
   ],
   "source": [
    "# Getting the smallest eigenvalues and their corresponding eigenvectors\n",
    "eig_vals, eig_vecs = sparse.linalg.eigs(H, which='SR')\n",
    "\n",
    "# Turning (2**N, 6) eig_vecs into (6, 2**N)\n",
    "eig_vecs = eig_vecs.T\n",
    "# Removing unnecessary computed values\n",
    "eig_vecs[abs(eig_vecs) < 1e-10] = 0\n",
    "eig_vals = np.round(eig_vals, decimals=10)\n",
    "\n",
    "# The lowest energy\n",
    "E_0 = np.real(np.min(eig_vals))\n",
    "# The state with the lowest energy\n",
    "psi_0 = eig_vecs[eig_vals == E_0].T\n",
    "\n",
    "psi_0_row, psi_0_col = psi_0.shape\n",
    "# Degeneracy handler\n",
    "if psi_0_col > 1:\n",
    "    # Setting the first state as the ground state\n",
    "    psi_0 = psi_0[:,0].reshape(-1, 1)\n",
    "    # scipy.sparse.linalg.eigs gives only 6 eigenvalues.\n",
    "    #The degeneracy can be more than that.\n",
    "    print(\"E_0 degeneracy =\\n\", psi_0_col, \"(at least)\")\n",
    "\n",
    "print(\"E_0 =\\n\", E_0)"
   ]
  },
  {
   "cell_type": "markdown",
   "metadata": {},
   "source": [
    "$$\\mathbf{M} = \\sum_{i, j = 1}^{N} \\mathbf{A}_{i j}, \\quad M_0 = \\left< \\psi_0 \\right| \\mathbf{M} \\left| \\psi_0 \\right>$$"
   ]
  },
  {
   "cell_type": "code",
   "execution_count": 8,
   "metadata": {
    "execution": {
     "iopub.execute_input": "2024-03-09T16:33:53.922319Z",
     "iopub.status.busy": "2024-03-09T16:33:53.914978Z",
     "iopub.status.idle": "2024-03-09T16:33:53.960620Z",
     "shell.execute_reply": "2024-03-09T16:33:53.958002Z",
     "shell.execute_reply.started": "2024-03-09T16:33:53.922194Z"
    },
    "scene__Default Scene": true,
    "tags": [
     "ActiveScene"
    ]
   },
   "outputs": [
    {
     "name": "stdout",
     "output_type": "stream",
     "text": [
      "M =\n",
      " 0.0\n"
     ]
    }
   ],
   "source": [
    "# Magnetization operator\n",
    "M_op = A_ops.sum()\n",
    "M = psi_0.conjugate().T @ M_op @ psi_0\n",
    "if M.shape == (1, 1):\n",
    "    M = np.real(M[0,0])\n",
    "\n",
    "print(\"M =\\n\", M)"
   ]
  },
  {
   "cell_type": "code",
   "execution_count": null,
   "metadata": {},
   "outputs": [],
   "source": []
  }
 ],
 "metadata": {
  "kernelspec": {
   "display_name": "Python 3 (ipykernel)",
   "language": "python",
   "name": "python3"
  },
  "language_info": {
   "codemirror_mode": {
    "name": "ipython",
    "version": 3
   },
   "file_extension": ".py",
   "mimetype": "text/x-python",
   "name": "python",
   "nbconvert_exporter": "python",
   "pygments_lexer": "ipython3",
   "version": "3.10.12"
  },
  "scenes_data": {
   "active_scene": "Default Scene",
   "init_scene": "",
   "scenes": [
    "Initialization",
    "Default Scene"
   ]
  }
 },
 "nbformat": 4,
 "nbformat_minor": 4
}
