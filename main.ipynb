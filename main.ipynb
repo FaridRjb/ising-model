{
 "cells": [
  {
   "cell_type": "code",
   "execution_count": 1,
   "metadata": {
    "execution": {
     "iopub.execute_input": "2024-03-03T15:57:25.102218Z",
     "iopub.status.busy": "2024-03-03T15:57:25.101962Z",
     "iopub.status.idle": "2024-03-03T15:57:25.317320Z",
     "shell.execute_reply": "2024-03-03T15:57:25.316364Z",
     "shell.execute_reply.started": "2024-03-03T15:57:25.102193Z"
    }
   },
   "outputs": [],
   "source": [
    "import numpy as np\n",
    "import scipy.sparse as sparse"
   ]
  },
  {
   "cell_type": "code",
   "execution_count": 2,
   "metadata": {
    "execution": {
     "iopub.execute_input": "2024-03-03T15:57:25.319778Z",
     "iopub.status.busy": "2024-03-03T15:57:25.318986Z",
     "iopub.status.idle": "2024-03-03T15:57:25.325811Z",
     "shell.execute_reply": "2024-03-03T15:57:25.324793Z",
     "shell.execute_reply.started": "2024-03-03T15:57:25.319735Z"
    }
   },
   "outputs": [],
   "source": [
    "N = 3\n",
    "epsilon = 1\n",
    "J = 3\n",
    "BC_type = 'PBC'\n",
    "\n",
    "pauli_z = sparse.dia_matrix(np.array([[1, 0],\n",
    "                                      [0, -1]]))"
   ]
  },
  {
   "cell_type": "code",
   "execution_count": 3,
   "metadata": {
    "execution": {
     "iopub.execute_input": "2024-03-03T15:57:25.328318Z",
     "iopub.status.busy": "2024-03-03T15:57:25.327646Z",
     "iopub.status.idle": "2024-03-03T15:57:25.334032Z",
     "shell.execute_reply": "2024-03-03T15:57:25.332987Z",
     "shell.execute_reply.started": "2024-03-03T15:57:25.328275Z"
    }
   },
   "outputs": [],
   "source": [
    "def n_identities(n: int):\n",
    "    \"\"\"Gives a tensor made out of the tensor product on 'n' identity matrices.\n",
    "\n",
    "    Args:\n",
    "        n (int): the number of identity matrices\n",
    "\n",
    "    Returns:\n",
    "        np.ndarray: the resultant matrix (tensor)\n",
    "    \"\"\"\n",
    "    return sparse.identity(2**n) if (n > 0) else 1"
   ]
  },
  {
   "cell_type": "markdown",
   "metadata": {},
   "source": [
    "$$\\mathbf{A}_i = \\underbrace{\\overbrace{\\mathbf{I} \\otimes \\mathbf{I} \\otimes \\ldots}^{i - 1\\ \\text{operators}} \\otimes \\sigma^z \\otimes \\overbrace{\\ldots \\otimes \\mathbf{I} \\otimes \\mathbf{I}}^{N - i\\ \\text{operators}}}_{N\\ \\text{operators}}$$"
   ]
  },
  {
   "cell_type": "code",
   "execution_count": 4,
   "metadata": {
    "execution": {
     "iopub.execute_input": "2024-03-03T15:57:25.337889Z",
     "iopub.status.busy": "2024-03-03T15:57:25.336353Z",
     "iopub.status.idle": "2024-03-03T15:57:25.359781Z",
     "shell.execute_reply": "2024-03-03T15:57:25.358429Z",
     "shell.execute_reply.started": "2024-03-03T15:57:25.337843Z"
    }
   },
   "outputs": [],
   "source": [
    "# A list to store the operators A\n",
    "A_ops = []\n",
    "for i in range(1, N+1):\n",
    "    A_i = sparse.kron(sparse.kron(n_identities(i-1), pauli_z), n_identities(N-i))\n",
    "    A_ops.append(A_i)\n",
    "\n",
    "A_ops = np.array(A_ops)"
   ]
  },
  {
   "cell_type": "markdown",
   "metadata": {},
   "source": [
    "$$\\mathbf{H} = \\epsilon \\sum_{i}^{N} \\mathbf{A}_i +J \\sum_{\\left< i j \\right>} \\mathbf{A}_i \\mathbf{A}_{i + 1}$$"
   ]
  },
  {
   "cell_type": "code",
   "execution_count": 5,
   "metadata": {
    "execution": {
     "iopub.execute_input": "2024-03-03T15:57:25.363839Z",
     "iopub.status.busy": "2024-03-03T15:57:25.362218Z",
     "iopub.status.idle": "2024-03-03T15:57:25.392208Z",
     "shell.execute_reply": "2024-03-03T15:57:25.390998Z",
     "shell.execute_reply.started": "2024-03-03T15:57:25.363789Z"
    }
   },
   "outputs": [
    {
     "name": "stdout",
     "output_type": "stream",
     "text": [
      "Hamiltonian =\n",
      "   (0, 0)\t12.0\n",
      "  (1, 1)\t-2.0\n",
      "  (2, 2)\t-2.0\n",
      "  (3, 3)\t-4.0\n",
      "  (4, 4)\t-2.0\n",
      "  (5, 5)\t-4.0\n",
      "  (6, 6)\t-4.0\n",
      "  (7, 7)\t6.0\n"
     ]
    }
   ],
   "source": [
    "# Creating the Hamiltonian\n",
    "H = sparse.dia_matrix((2**N, 2**N), dtype=float)\n",
    "match BC_type:\n",
    "    case 'PBC':\n",
    "        for i in range(N):\n",
    "            H += epsilon * A_ops[i] + J * (A_ops[i] @ A_ops[i+1 if (i+1 < N) else 0])\n",
    "    case 'APBC':\n",
    "        for i in range(N):\n",
    "            H += epsilon * A_ops[i] + J * (A_ops[i] @ (A_ops[i+1] if (i+1 < N) else -A_ops[0]))\n",
    "    case default:\n",
    "        raise Exception('BC_type is not correctly defined')\n",
    "\n",
    "print(\"Hamiltonian =\\n\", H)"
   ]
  },
  {
   "cell_type": "code",
   "execution_count": 6,
   "metadata": {
    "editable": true,
    "execution": {
     "iopub.execute_input": "2024-03-03T15:57:25.396449Z",
     "iopub.status.busy": "2024-03-03T15:57:25.395908Z",
     "iopub.status.idle": "2024-03-03T15:57:25.405322Z",
     "shell.execute_reply": "2024-03-03T15:57:25.404435Z",
     "shell.execute_reply.started": "2024-03-03T15:57:25.396384Z"
    },
    "slideshow": {
     "slide_type": ""
    },
    "tags": []
   },
   "outputs": [
    {
     "name": "stdout",
     "output_type": "stream",
     "text": [
      "E_0 degeneracy =\n",
      " 3 (at least)\n",
      "E_0 =\n",
      " -4.0\n"
     ]
    }
   ],
   "source": [
    "# Getting the smallest eigenvalues and their corresponding eigenvectors\n",
    "eig_vals, eig_vecs = sparse.linalg.eigs(H, which='SR')\n",
    "\n",
    "# Turning (2**N, 6) eig_vecs into (6, 2**N)\n",
    "eig_vecs = eig_vecs.T\n",
    "# Removing unnecessary computed values\n",
    "eig_vecs[abs(eig_vecs) < 1e-10] = 0\n",
    "eig_vals = np.round(eig_vals, decimals=10)\n",
    "\n",
    "# The lowest energy\n",
    "E_0 = np.real(np.min(eig_vals))\n",
    "# The state with the lowest energy\n",
    "psi_0 = eig_vecs[eig_vals == E_0].T\n",
    "\n",
    "psi_0_row, psi_0_col = psi_0.shape\n",
    "# Degeneracy handler\n",
    "if psi_0_col > 1:\n",
    "    # Setting the first state as the ground state\n",
    "    psi_0 = psi_0[:,0].reshape(-1, 1)\n",
    "    # scipy.sparse.linalg.eigs gives only 6 eigenvalues.\n",
    "    #The degeneracy can be more than that\n",
    "    print(\"E_0 degeneracy =\\n\", psi_0_col, \"(at least)\")\n",
    "\n",
    "print(\"E_0 =\\n\", E_0)"
   ]
  },
  {
   "cell_type": "markdown",
   "metadata": {},
   "source": [
    "$$\\mathbf{M} = \\sum_{i = 1}^{N} \\mathbf{A}_i, \\quad M_0 = \\left< \\psi_0 \\right| \\mathbf{M} \\left| \\psi_0 \\right>$$"
   ]
  },
  {
   "cell_type": "code",
   "execution_count": 7,
   "metadata": {
    "execution": {
     "iopub.execute_input": "2024-03-03T15:57:25.407110Z",
     "iopub.status.busy": "2024-03-03T15:57:25.406368Z",
     "iopub.status.idle": "2024-03-03T15:57:25.411831Z",
     "shell.execute_reply": "2024-03-03T15:57:25.411131Z",
     "shell.execute_reply.started": "2024-03-03T15:57:25.407070Z"
    }
   },
   "outputs": [
    {
     "name": "stdout",
     "output_type": "stream",
     "text": [
      "M =\n",
      " -0.9999999999999996\n"
     ]
    }
   ],
   "source": [
    "# Magnetization operator\n",
    "M_op = A_ops.sum()\n",
    "M = psi_0.conjugate().T @ M_op @ psi_0\n",
    "if M.shape == (1, 1):\n",
    "    M = np.real(M[0,0])\n",
    "\n",
    "print(\"M =\\n\", M)"
   ]
  },
  {
   "cell_type": "code",
   "execution_count": null,
   "metadata": {},
   "outputs": [],
   "source": []
  }
 ],
 "metadata": {
  "kernelspec": {
   "display_name": "Python 3 (ipykernel)",
   "language": "python",
   "name": "python3"
  },
  "language_info": {
   "codemirror_mode": {
    "name": "ipython",
    "version": 3
   },
   "file_extension": ".py",
   "mimetype": "text/x-python",
   "name": "python",
   "nbconvert_exporter": "python",
   "pygments_lexer": "ipython3",
   "version": "3.10.12"
  }
 },
 "nbformat": 4,
 "nbformat_minor": 4
}
