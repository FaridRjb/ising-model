{
 "cells": [
  {
   "cell_type": "code",
   "execution_count": 1,
   "metadata": {
    "execution": {
     "iopub.execute_input": "2024-03-02T16:37:48.634057Z",
     "iopub.status.busy": "2024-03-02T16:37:48.633656Z",
     "iopub.status.idle": "2024-03-02T16:37:48.786065Z",
     "shell.execute_reply": "2024-03-02T16:37:48.785512Z",
     "shell.execute_reply.started": "2024-03-02T16:37:48.634032Z"
    }
   },
   "outputs": [],
   "source": [
    "import numpy as np\n",
    "import datetime"
   ]
  },
  {
   "cell_type": "markdown",
   "metadata": {},
   "source": [
    "# Parameters"
   ]
  },
  {
   "cell_type": "code",
   "execution_count": 2,
   "metadata": {
    "execution": {
     "iopub.execute_input": "2024-03-02T16:37:48.787043Z",
     "iopub.status.busy": "2024-03-02T16:37:48.786801Z",
     "iopub.status.idle": "2024-03-02T16:37:48.790467Z",
     "shell.execute_reply": "2024-03-02T16:37:48.789794Z",
     "shell.execute_reply.started": "2024-03-02T16:37:48.787023Z"
    }
   },
   "outputs": [],
   "source": [
    "N = 3\n",
    "epsilon = 1\n",
    "J = 3\n",
    "\n",
    "pauli_z = np.array([[1, 0],\n",
    "                    [0, -1]])"
   ]
  },
  {
   "cell_type": "markdown",
   "metadata": {},
   "source": [
    "# Initialization"
   ]
  },
  {
   "cell_type": "code",
   "execution_count": 3,
   "metadata": {
    "execution": {
     "iopub.execute_input": "2024-03-02T16:37:48.792276Z",
     "iopub.status.busy": "2024-03-02T16:37:48.791958Z",
     "iopub.status.idle": "2024-03-02T16:37:48.795501Z",
     "shell.execute_reply": "2024-03-02T16:37:48.794926Z",
     "shell.execute_reply.started": "2024-03-02T16:37:48.792258Z"
    }
   },
   "outputs": [],
   "source": [
    "def n_identities(n: int):\n",
    "    \"\"\"Gives a tensor made out of the tensor product on 'n' identity matrices.\n",
    "\n",
    "    Args:\n",
    "        n (int): the number of identity matrices\n",
    "\n",
    "    Returns:\n",
    "        np.ndarray: the resultant matrix (tensor)\n",
    "    \"\"\"\n",
    "    return np.identity(2**n) if (n > 0) else 1"
   ]
  },
  {
   "cell_type": "markdown",
   "metadata": {},
   "source": [
    "$$\\mathbf{A}_i = \\underbrace{\\overbrace{\\mathbf{I} \\otimes \\mathbf{I} \\otimes \\ldots}^{i - 1\\ \\text{operators}} \\otimes \\sigma^z \\otimes \\overbrace{\\ldots \\otimes \\mathbf{I} \\otimes \\mathbf{I}}^{N - 1\\ \\text{operators}}}_{N\\ \\text{operators}}$$"
   ]
  },
  {
   "cell_type": "code",
   "execution_count": 4,
   "metadata": {
    "execution": {
     "iopub.execute_input": "2024-03-02T16:37:48.796417Z",
     "iopub.status.busy": "2024-03-02T16:37:48.796121Z",
     "iopub.status.idle": "2024-03-02T16:37:48.801079Z",
     "shell.execute_reply": "2024-03-02T16:37:48.800473Z",
     "shell.execute_reply.started": "2024-03-02T16:37:48.796399Z"
    }
   },
   "outputs": [],
   "source": [
    "# A list to store the operators A\n",
    "A_ops = []\n",
    "for i in range(1, N+1):\n",
    "    A_i = np.kron(np.kron(n_identities(i-1), pauli_z), n_identities(N-i))\n",
    "    A_ops.append(A_i)\n",
    "\n",
    "A_ops = np.array(A_ops)"
   ]
  },
  {
   "cell_type": "markdown",
   "metadata": {},
   "source": [
    "$$\\mathbf{H} = \\epsilon \\sum_{i}^{N} \\mathbf{A}_i +J \\sum_{\\left< i j \\right>} \\mathbf{A}_i \\mathbf{A}_{i + 1}$$"
   ]
  },
  {
   "cell_type": "code",
   "execution_count": 5,
   "metadata": {
    "execution": {
     "iopub.execute_input": "2024-03-02T16:37:48.802050Z",
     "iopub.status.busy": "2024-03-02T16:37:48.801787Z",
     "iopub.status.idle": "2024-03-02T16:37:48.807262Z",
     "shell.execute_reply": "2024-03-02T16:37:48.806670Z",
     "shell.execute_reply.started": "2024-03-02T16:37:48.802031Z"
    }
   },
   "outputs": [
    {
     "name": "stdout",
     "output_type": "stream",
     "text": [
      "Hamiltonian =\n",
      " [[12.  0.  0.  0.  0.  0.  0.  0.]\n",
      " [ 0. -2.  0.  0.  0.  0.  0.  0.]\n",
      " [ 0.  0. -2.  0.  0.  0.  0.  0.]\n",
      " [ 0.  0.  0. -4.  0.  0.  0.  0.]\n",
      " [ 0.  0.  0.  0. -2.  0.  0.  0.]\n",
      " [ 0.  0.  0.  0.  0. -4.  0.  0.]\n",
      " [ 0.  0.  0.  0.  0.  0. -4.  0.]\n",
      " [ 0.  0.  0.  0.  0.  0.  0.  6.]]\n"
     ]
    }
   ],
   "source": [
    "# Creating the Hamiltonian\n",
    "H = np.zeros((2**N, 2**N), dtype=float)\n",
    "for i in range(N):\n",
    "    H += epsilon * A_ops[i] + J * np.matmul(A_ops[i], A_ops[i+1 if (i+1 < N) else 0])\n",
    "\n",
    "print(\"Hamiltonian =\\n\", H)"
   ]
  },
  {
   "cell_type": "markdown",
   "metadata": {},
   "source": [
    "$$\\mathbf{M} = \\sum_{i = 1}^{N} \\mathbf{A}_i, \\quad M_0 = \\left< \\psi_0 \\right| \\mathbf{M} \\left| \\psi_0 \\right>$$"
   ]
  },
  {
   "cell_type": "code",
   "execution_count": 20,
   "metadata": {
    "editable": true,
    "execution": {
     "iopub.execute_input": "2024-03-02T16:48:33.388728Z",
     "iopub.status.busy": "2024-03-02T16:48:33.387839Z",
     "iopub.status.idle": "2024-03-02T16:48:33.404744Z",
     "shell.execute_reply": "2024-03-02T16:48:33.402624Z",
     "shell.execute_reply.started": "2024-03-02T16:48:33.388645Z"
    },
    "slideshow": {
     "slide_type": ""
    },
    "tags": []
   },
   "outputs": [
    {
     "name": "stdout",
     "output_type": "stream",
     "text": [
      "E_0 =\n",
      " -4.0\n",
      "[[ 0.  0.  0.]\n",
      " [ 0.  0.  0.]\n",
      " [ 0.  0.  0.]\n",
      " [-1.  0.  0.]\n",
      " [ 0.  0.  0.]\n",
      " [ 0. -1.  0.]\n",
      " [ 0.  0. -1.]\n",
      " [ 0.  0.  0.]]\n"
     ]
    }
   ],
   "source": [
    "# Eigenvalues and their corresponding eigenvectors\n",
    "eig_vals, eig_vecs = np.linalg.eig(H)\n",
    "# The state with the lowest energy\n",
    "E_0 = min(eig_vals)\n",
    "\n",
    "psi_0 = eig_vecs[eig_vals == E_0].transpose()\n",
    "psi_0_row, psi_0_col = psi_0.shape\n",
    "if psi_0_col > 1:\n",
    "    psi_0 = psi_0[:,0].reshape(-1, 1)\n",
    "    print(\"E_0 is degenerate =\\n\", psi_0_col)\n",
    "\n",
    "print(\"E_0 =\\n\", min(eig_vals))\n",
    "\n",
    "M = A_ops.sum(axis=0)\n",
    "\n",
    "print(np.matmul(M, PSI_0))"
   ]
  },
  {
   "cell_type": "code",
   "execution_count": 23,
   "metadata": {
    "execution": {
     "iopub.execute_input": "2024-03-02T16:48:38.804384Z",
     "iopub.status.busy": "2024-03-02T16:48:38.803467Z",
     "iopub.status.idle": "2024-03-02T16:48:38.821705Z",
     "shell.execute_reply": "2024-03-02T16:48:38.818895Z",
     "shell.execute_reply.started": "2024-03-02T16:48:38.804297Z"
    }
   },
   "outputs": [
    {
     "data": {
      "text/plain": [
       "array([[0.],\n",
       "       [0.],\n",
       "       [0.],\n",
       "       [1.],\n",
       "       [0.],\n",
       "       [0.],\n",
       "       [0.],\n",
       "       [0.]])"
      ]
     },
     "execution_count": 23,
     "metadata": {},
     "output_type": "execute_result"
    }
   ],
   "source": [
    "psi_0"
   ]
  },
  {
   "cell_type": "code",
   "execution_count": 22,
   "metadata": {
    "execution": {
     "iopub.execute_input": "2024-03-02T16:48:37.243240Z",
     "iopub.status.busy": "2024-03-02T16:48:37.241938Z",
     "iopub.status.idle": "2024-03-02T16:48:37.248991Z",
     "shell.execute_reply": "2024-03-02T16:48:37.248013Z",
     "shell.execute_reply.started": "2024-03-02T16:48:37.243156Z"
    }
   },
   "outputs": [
    {
     "name": "stdout",
     "output_type": "stream",
     "text": [
      "E_0 is degenerate =\n",
      " 3\n"
     ]
    }
   ],
   "source": []
  },
  {
   "cell_type": "code",
   "execution_count": null,
   "metadata": {},
   "outputs": [],
   "source": []
  }
 ],
 "metadata": {
  "kernelspec": {
   "display_name": "Python 3 (ipykernel)",
   "language": "python",
   "name": "python3"
  },
  "language_info": {
   "codemirror_mode": {
    "name": "ipython",
    "version": 3
   },
   "file_extension": ".py",
   "mimetype": "text/x-python",
   "name": "python",
   "nbconvert_exporter": "python",
   "pygments_lexer": "ipython3",
   "version": "3.10.12"
  }
 },
 "nbformat": 4,
 "nbformat_minor": 4
}
