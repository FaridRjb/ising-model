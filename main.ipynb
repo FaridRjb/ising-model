{
 "cells": [
  {
   "cell_type": "code",
   "execution_count": 1,
   "metadata": {
    "editable": true,
    "execution": {
     "iopub.execute_input": "2024-03-11T11:28:00.191931Z",
     "iopub.status.busy": "2024-03-11T11:28:00.191592Z",
     "iopub.status.idle": "2024-03-11T11:28:00.644621Z",
     "shell.execute_reply": "2024-03-11T11:28:00.643941Z",
     "shell.execute_reply.started": "2024-03-11T11:28:00.191901Z"
    },
    "scene__Initialization": true,
    "slideshow": {
     "slide_type": ""
    },
    "tags": []
   },
   "outputs": [],
   "source": [
    "import numpy as np\n",
    "import scipy.sparse as sparse"
   ]
  },
  {
   "cell_type": "markdown",
   "metadata": {},
   "source": [
    "# Initialization"
   ]
  },
  {
   "cell_type": "code",
   "execution_count": 2,
   "metadata": {
    "execution": {
     "iopub.execute_input": "2024-03-11T11:28:00.978532Z",
     "iopub.status.busy": "2024-03-11T11:28:00.977899Z",
     "iopub.status.idle": "2024-03-11T11:28:00.990576Z",
     "shell.execute_reply": "2024-03-11T11:28:00.988099Z",
     "shell.execute_reply.started": "2024-03-11T11:28:00.978476Z"
    },
    "scene__Initialization": true,
    "tags": []
   },
   "outputs": [],
   "source": [
    "def record_output(file_name: str, vars: list):\n",
    "    \"\"\"Writes/Appends the data given into the file address provided as comma separated values.\n",
    "\n",
    "    Args:\n",
    "        file_name (str): name of the file\n",
    "        vars (list): list of the variables that their values will be written in the file\n",
    "    \"\"\"\n",
    "    f = open(file_name, 'a')\n",
    "    t = ','.join(np.array(vars).astype(str)) + '\\n'\n",
    "    f.write(t)\n",
    "    f.close()"
   ]
  },
  {
   "cell_type": "markdown",
   "metadata": {
    "editable": true,
    "slideshow": {
     "slide_type": ""
    }
   },
   "source": [
    "$$\\mathbf{A}_{i j} = \\underbrace{\\overbrace{\\mathbf{I} \\otimes \\ldots \\otimes\\mathbf{I}}^{N_j i + j\\ \\text{operators}} \\otimes \\sigma^z \\otimes \\overbrace{\\mathbf{I} \\otimes \\ldots \\otimes\\mathbf{I}}^{N_j N_i - N_j i - j - 1\\ \\text{operators}}}_{N_i N_j\\ \\text{operators}}, \\quad i,j = 0, 1, 2, \\ldots$$"
   ]
  },
  {
   "cell_type": "code",
   "execution_count": 3,
   "metadata": {
    "editable": true,
    "execution": {
     "iopub.execute_input": "2024-03-11T11:28:01.581766Z",
     "iopub.status.busy": "2024-03-11T11:28:01.581394Z",
     "iopub.status.idle": "2024-03-11T11:28:01.585225Z",
     "shell.execute_reply": "2024-03-11T11:28:01.584717Z",
     "shell.execute_reply.started": "2024-03-11T11:28:01.581743Z"
    },
    "scene__Initialization": true,
    "slideshow": {
     "slide_type": ""
    },
    "tags": []
   },
   "outputs": [],
   "source": [
    "def n_identities(n: int) -> (sparse._dia.dia_matrix | int):\n",
    "    \"\"\"Returns a matrix made of the tensor product of n identity matrices.\n",
    "\n",
    "    Args:\n",
    "        n (int): number of the identity matrices\n",
    "\n",
    "    Returns:\n",
    "        (dia_matrix | int): an identity matrix of shape (2**n, 2**n)\n",
    "    \"\"\"\n",
    "    return sparse.identity(2**n) if (n > 0) else 1"
   ]
  },
  {
   "cell_type": "code",
   "execution_count": 4,
   "metadata": {
    "execution": {
     "iopub.execute_input": "2024-03-11T11:28:01.807627Z",
     "iopub.status.busy": "2024-03-11T11:28:01.806719Z",
     "iopub.status.idle": "2024-03-11T11:28:01.822156Z",
     "shell.execute_reply": "2024-03-11T11:28:01.820854Z",
     "shell.execute_reply.started": "2024-03-11T11:28:01.807540Z"
    },
    "scene__Initialization": true,
    "tags": []
   },
   "outputs": [],
   "source": [
    "def A_operators(N_i: int, N_j: int) -> np.ndarray:\n",
    "    \"\"\"Return the A operators of the problem.\n",
    "\n",
    "    Args:\n",
    "        N_i (int): number of rows\n",
    "        N_j (int): number of columns\n",
    "\n",
    "    Returns:\n",
    "        numpy.ndarray: an array of shape (N_i, N_j)\n",
    "    \"\"\"\n",
    "    pauli_z = sparse.diags_array([1, -1])\n",
    "    # A list to store the operators A\n",
    "    A_ops = np.empty((N_i,N_j), dtype=sparse._coo.coo_matrix)\n",
    "\n",
    "    for i in range(N_i):\n",
    "        for j in range(N_j):\n",
    "            A_ij = sparse.kron(sparse.kron(n_identities((N_j*i)+j),\n",
    "                                           pauli_z),\n",
    "                               n_identities((N_j*N_i)-(N_j*i)-j-1))\n",
    "            A_ops[i,j] = A_ij\n",
    "\n",
    "    return A_ops"
   ]
  },
  {
   "cell_type": "markdown",
   "metadata": {},
   "source": [
    "$$\\mathbf{H} = \\epsilon \\sum_{i, j = 0}^{N_i - 1, N_j - 1} \\mathbf{A}_{i j} + \\frac{1}{2} J \\sum_{i, j = 0}^{N_i - 1, N_j - 1} \\mathbf{A}_{i j} (\\mathbf{A}_{i + 1, j} + \\mathbf{A}_{i - 1, j} + \\mathbf{A}_{i, j + 1} + \\mathbf{A}_{i, j - 1})$$"
   ]
  },
  {
   "cell_type": "code",
   "execution_count": 5,
   "metadata": {
    "execution": {
     "iopub.execute_input": "2024-03-11T11:28:05.528857Z",
     "iopub.status.busy": "2024-03-11T11:28:05.528377Z",
     "iopub.status.idle": "2024-03-11T11:28:05.550548Z",
     "shell.execute_reply": "2024-03-11T11:28:05.549591Z",
     "shell.execute_reply.started": "2024-03-11T11:28:05.528822Z"
    },
    "scene__Initialization": true,
    "tags": []
   },
   "outputs": [],
   "source": [
    "def hamiltonian(N_i: int, N_j: int, A_ops: np.ndarray, epsilon: float, J: float, BC_type: str) -> sparse._csr.csr_matrix:\n",
    "    \"\"\"Returns the Hamiltonian of the system.\n",
    "\n",
    "    Args:\n",
    "        N_i (int): number of rows\n",
    "        N_j (int): number of columns\n",
    "        A_ops (numpy.ndarray): an array of A_{ij} operators\n",
    "        epsilon (float): the magnetic field exerted on the system\n",
    "        J (float): exchange energy\n",
    "        BC_type (str): type of the boundary conditions:\n",
    "            'PBC' (Periodic Boundary Condition),\n",
    "            'APBC' (Anti-Periodic Boundary Condition).\n",
    "\n",
    "    Raises:\n",
    "        Exception:\n",
    "            BC_type is not chosen correctly.\n",
    "            the neighboring site on the boundaries of the lattice was not found (or incorrect index).\n",
    "\n",
    "    Returns:\n",
    "        csr_matrix: an sparse matrix representing the Hamiltonian of shape (2**(N_i*N_j), 2**(N_i*N_j))\n",
    "    \"\"\"\n",
    "    # Creating the Hamiltonian\n",
    "    H = sparse.dia_matrix((2**(N_i*N_j), 2**(N_i*N_j)), dtype=float)\n",
    "    # Choosing the type of the BC\n",
    "    match BC_type:\n",
    "        case 'PBC':\n",
    "            for i in range(N_i):\n",
    "                for j in range(N_j):\n",
    "                    H += epsilon * A_ops[i,j]\n",
    "                    # Neighbors on the same row\n",
    "                    for index in [j+1, j-1]:\n",
    "                        # If index is (i, -1), there will be no problem\n",
    "                        try:\n",
    "                            H += 0.5 * J * (A_ops[i,j] @ A_ops[i, index])\n",
    "                        # IndexError means that the index is out of bound,\n",
    "                        # so index 0 should be used.\n",
    "                        except IndexError:\n",
    "                            try:\n",
    "                                H += 0.5 * J * (A_ops[i,j] @ A_ops[i, 0])\n",
    "                            except:\n",
    "                                raise Exception('failed to find element \\\n",
    "                                ({:.0f},{:.0f}) in A_ops'.format(i, index))\n",
    "                    # Neighbors on the same column\n",
    "                    for index in [i+1, i-1]:\n",
    "                        # If index is (-1, j), there will be no problem\n",
    "                        try:\n",
    "                            H += 0.5 * J * (A_ops[i,j] @ A_ops[index, j])\n",
    "                        # IndexError means that the index is out of bound,\n",
    "                        # so index 0 should be used.\n",
    "                        except IndexError:\n",
    "                            try:\n",
    "                                H += 0.5 * J * (A_ops[i,j] @ A_ops[0, j])\n",
    "                            except:\n",
    "                                raise Exception('failed to find element \\\n",
    "                                ({:.0f},{:.0f}) in A_ops'.format(index, j))\n",
    "\n",
    "        case 'APBC':\n",
    "            for i in range(N_i):\n",
    "                for j in range(N_j):\n",
    "                    H += epsilon * A_ops[i,j]\n",
    "                    # Neighbors on the same row\n",
    "                    for index in [j+1, j-1]:\n",
    "                        # If index is (i, -1), there will be no problem\n",
    "                        try:\n",
    "                            if index == -1:\n",
    "                                H += 0.5 * J * (A_ops[i,j] @ (-A_ops[i, -1]))\n",
    "                            else:\n",
    "                                H += 0.5 * J * (A_ops[i,j] @ A_ops[i, index])\n",
    "                        # IndexError means that the index is out of bound,\n",
    "                        # so index 0 should be used.\n",
    "                        except IndexError:\n",
    "                            try:\n",
    "                                H += 0.5 * J * (A_ops[i,j] @ (-A_ops[i, 0]))\n",
    "                            except:\n",
    "                                raise Exception('failed to find element \\\n",
    "                                ({:.0f},{:.0f}) in A_ops'.format(i, index))\n",
    "                    # Neighbors on the same column\n",
    "                    for index in [i+1, i-1]:\n",
    "                        # If index is (-1, j), there will be no problem\n",
    "                        try:\n",
    "                            if index == -1:\n",
    "                                H += 0.5 * J * (A_ops[i,j] @ (-A_ops[-1, j]))\n",
    "                            else:\n",
    "                                H += 0.5 * J * (A_ops[i,j] @ A_ops[index, j])\n",
    "                        # IndexError means that the index is out of bound,\n",
    "                        # so index 0 should be used.\n",
    "                        except IndexError:\n",
    "                            try:\n",
    "                                H += 0.5 * J * (A_ops[i,j] @ (-A_ops[0, j]))\n",
    "                            except:\n",
    "                                raise Exception('failed to find element \\\n",
    "                                ({:.0f},{:.0f}) in A_ops'.format(index, j))\n",
    "        case default:\n",
    "            raise Exception('BC_type is not correctly defined')\n",
    "    return H"
   ]
  },
  {
   "cell_type": "code",
   "execution_count": 6,
   "metadata": {
    "execution": {
     "iopub.execute_input": "2024-03-11T11:28:06.157195Z",
     "iopub.status.busy": "2024-03-11T11:28:06.156929Z",
     "iopub.status.idle": "2024-03-11T11:28:06.163304Z",
     "shell.execute_reply": "2024-03-11T11:28:06.162454Z",
     "shell.execute_reply.started": "2024-03-11T11:28:06.157160Z"
    },
    "scene__Initialization": true,
    "tags": []
   },
   "outputs": [],
   "source": [
    "def eigens(H_op: sparse.csr_matrix) -> tuple:\n",
    "    \"\"\"Returns half of the eigenvalues, the least eigenvalue (E_0) and its corresponding eigenvector.\n",
    "\n",
    "    Args:\n",
    "        H_op (csr_matrix): Hamiltonian of the system\n",
    "\n",
    "    Returns:\n",
    "        tuple: eigenvalues (ndarray), the least eigenvalue E_0 (float), eigenvector (ndarray)\n",
    "    \"\"\"\n",
    "    # Getting the smallest eigenvalues and their corresponding eigenvectors\n",
    "    # k=H_op.shape[0]//2 returns half of the eigenvalues of the system\n",
    "    # sparse.linalg.eigs(H_op, k=H_op.shape[0]//2, which='SR') could be used but the results were inconsistent.\n",
    "    eig_vals, eig_vecs = np.linalg.eig(H_op.todense())\n",
    "    # Turning column presentation of eig_vecs into row presentation\n",
    "    eig_vecs = eig_vecs.T\n",
    "    # Removing unnecessary computed values\n",
    "    eig_vecs[abs(eig_vecs) < 1e-10] = 0\n",
    "    eig_vals = np.round(eig_vals, decimals=10)\n",
    "    # The lowest energy\n",
    "    E_0 = np.real(np.min(eig_vals))\n",
    "    # The state with the lowest energy\n",
    "    # Turning to column presentation\n",
    "    psi_0 = eig_vecs[eig_vals == E_0].T\n",
    "    # Checking the dimensions of psi_0\n",
    "    # n case the degeneracy have given more than one eigenstates\n",
    "    _, psi_0_col = psi_0.shape\n",
    "    if psi_0_col > 1:\n",
    "        # Setting the first state as the ground state\n",
    "        psi_0 = psi_0[:,0].reshape(-1, 1)\n",
    "    return eig_vals, E_0, psi_0"
   ]
  },
  {
   "cell_type": "markdown",
   "metadata": {},
   "source": [
    "$$\\mathbf{M} = \\sum_{i, j = 1}^{N} \\mathbf{A}_{i j}, \\quad M_0 = \\left< \\psi_0 \\right| \\mathbf{M} \\left| \\psi_0 \\right>$$"
   ]
  },
  {
   "cell_type": "code",
   "execution_count": 7,
   "metadata": {
    "execution": {
     "iopub.execute_input": "2024-03-11T11:28:06.912529Z",
     "iopub.status.busy": "2024-03-11T11:28:06.912030Z",
     "iopub.status.idle": "2024-03-11T11:28:06.918968Z",
     "shell.execute_reply": "2024-03-11T11:28:06.917853Z",
     "shell.execute_reply.started": "2024-03-11T11:28:06.912484Z"
    },
    "scene__Initialization": true,
    "tags": []
   },
   "outputs": [],
   "source": [
    "def magnetization_0(A_ops, psi_0: np.ndarray) -> float:\n",
    "    \"\"\"Returns the magnetization of the ground state at T=0.\n",
    "\n",
    "    Args:\n",
    "        A_ops (ndarray): an array of the A operators of the system\n",
    "        psi_0 (ndarray): column eigenvector of the ground state\n",
    "\n",
    "    Returns:\n",
    "        float: magnetization\n",
    "    \"\"\"\n",
    "    # A_ops.sum() is the magnetization operator\n",
    "    M = psi_0.conjugate().T @ A_ops.sum() @ psi_0\n",
    "    # Retrieving tne value from the M array\n",
    "    if M.shape == (1, 1):\n",
    "        M = np.real(M[0,0])\n",
    "\n",
    "    return M"
   ]
  },
  {
   "cell_type": "markdown",
   "metadata": {},
   "source": [
    "$$Z = \\sum_n e^{-E_n / k_B T}$$"
   ]
  },
  {
   "cell_type": "code",
   "execution_count": 8,
   "metadata": {
    "execution": {
     "iopub.execute_input": "2024-03-11T11:28:07.747229Z",
     "iopub.status.busy": "2024-03-11T11:28:07.746918Z",
     "iopub.status.idle": "2024-03-11T11:28:07.752032Z",
     "shell.execute_reply": "2024-03-11T11:28:07.751268Z",
     "shell.execute_reply.started": "2024-03-11T11:28:07.747200Z"
    },
    "scene__Initialization": true,
    "tags": []
   },
   "outputs": [],
   "source": [
    "def partition(eig_vals: np.ndarray, k_B: float, T: float) -> float:\n",
    "    \"\"\"Returns the value of the partition function of a system.\n",
    "\n",
    "    Args:\n",
    "        eig_vals (ndarray): an array of eigenvalues\n",
    "        k_B (float): Boltzman's constant\n",
    "        T (float): temperature\n",
    "\n",
    "    Returns:\n",
    "        float: numerical value of the partition function\n",
    "    \"\"\"\n",
    "    Z = 0\n",
    "    for energy in eig_vals:\n",
    "        Z += np.exp(-np.real(energy) / (k_B * T))\n",
    "\n",
    "    return Z"
   ]
  },
  {
   "cell_type": "markdown",
   "metadata": {},
   "source": [
    "$$F = - k_B T \\ln Z = E - T S$$"
   ]
  },
  {
   "cell_type": "code",
   "execution_count": 9,
   "metadata": {
    "execution": {
     "iopub.execute_input": "2024-03-11T11:28:08.696450Z",
     "iopub.status.busy": "2024-03-11T11:28:08.692967Z",
     "iopub.status.idle": "2024-03-11T11:28:08.705862Z",
     "shell.execute_reply": "2024-03-11T11:28:08.704411Z",
     "shell.execute_reply.started": "2024-03-11T11:28:08.696293Z"
    },
    "scene__Initialization": true,
    "tags": []
   },
   "outputs": [],
   "source": [
    "def helmholtz(k_B: float, T: float, Z: float) -> float:\n",
    "    \"\"\"Returns the Helmholtz energy.\n",
    "\n",
    "    Args:\n",
    "        k_B (float): Boltzman's constant\n",
    "        T (float): temperature\n",
    "        Z (float): value of the partition function\n",
    "\n",
    "    Returns:\n",
    "        float: Helmholtz energy\n",
    "    \"\"\"\n",
    "    return -k_B * T * np.log(Z)"
   ]
  },
  {
   "cell_type": "markdown",
   "metadata": {},
   "source": [
    "$$\\frac{\\partial \\ln Z}{\\partial T} = \\lim_{\\delta T \\rightarrow 0} \\frac{\\ln Z(T + \\delta T) - \\ln Z(T)}{\\delta T}$$"
   ]
  },
  {
   "cell_type": "code",
   "execution_count": 10,
   "metadata": {
    "execution": {
     "iopub.execute_input": "2024-03-11T11:28:09.876418Z",
     "iopub.status.busy": "2024-03-11T11:28:09.875931Z",
     "iopub.status.idle": "2024-03-11T11:28:09.882979Z",
     "shell.execute_reply": "2024-03-11T11:28:09.882035Z",
     "shell.execute_reply.started": "2024-03-11T11:28:09.876373Z"
    },
    "scene__Initialization": true,
    "tags": []
   },
   "outputs": [],
   "source": [
    "def d_ln_Z_dT(eig_vals: np.ndarray, k_B: float, T: float, delta_T: float) -> float:\n",
    "    \"\"\"Returns the numerical value of (d/dT)ln(Z).\n",
    "\n",
    "    Args:\n",
    "        eig_vals (ndarray): eigenvalues (energy levels) of the system\n",
    "        k_B (float): Boltzman's constant\n",
    "        T (float): temperature\n",
    "        delta_T (float): differentiation step\n",
    "\n",
    "    Returns:\n",
    "        float: derivative of ln(Z): (d/dT)ln(Z)\n",
    "    \"\"\"\n",
    "    return (np.log(partition(eig_vals=eig_vals, k_B=k_B, T=T+delta_T)) \n",
    "            - np.log(partition(eig_vals=eig_vals, k_B=k_B, T=T))) / delta_T"
   ]
  },
  {
   "cell_type": "markdown",
   "metadata": {},
   "source": [
    "$$\\frac{\\partial^2 \\ln Z}{\\partial^2 T} = \\lim_{\\delta T \\rightarrow 0} \\frac{\\frac{\\ln Z(T + 2\\delta T) - \\ln Z(T + \\delta T)}{\\delta T} - \\frac{\\ln Z(T + \\delta T) - \\ln Z(T)}{\\delta T}}{\\delta T}$$"
   ]
  },
  {
   "cell_type": "code",
   "execution_count": 11,
   "metadata": {
    "execution": {
     "iopub.execute_input": "2024-03-11T11:28:10.958695Z",
     "iopub.status.busy": "2024-03-11T11:28:10.958231Z",
     "iopub.status.idle": "2024-03-11T11:28:10.964325Z",
     "shell.execute_reply": "2024-03-11T11:28:10.963369Z",
     "shell.execute_reply.started": "2024-03-11T11:28:10.958653Z"
    },
    "scene__Initialization": true,
    "tags": []
   },
   "outputs": [],
   "source": [
    "def d2_ln_Z_d2T(eig_vals: np.ndarray, k_B: float, T: float, delta_T: float) -> float:\n",
    "    \"\"\"Returns the numerical value of (d**2/dT**2)ln(Z).\n",
    "\n",
    "    Args:\n",
    "        eig_vals (ndarray): eigenvalues (energy levels) of the system\n",
    "        k_B (float): Boltzman's constant\n",
    "        T (float): temperature\n",
    "        delta_T (float): differentiation step\n",
    "\n",
    "    Returns:\n",
    "        float: derivative of ln(Z): (d**2/dT**2)ln(Z)\n",
    "    \"\"\"\n",
    "    return (d_ln_Z_dT(eig_vals=eig_vals, k_B=k_B, T=T+delta_T, delta_T=delta_T) \n",
    "            - d_ln_Z_dT(eig_vals=eig_vals, k_B=k_B, T=T, delta_T=delta_T)) / delta_T"
   ]
  },
  {
   "cell_type": "markdown",
   "metadata": {},
   "source": [
    "$$C_V = k_B T \\left( 2 \\left. \\frac{\\partial \\ln Z}{\\partial T} \\right|_V + T \\left. \\frac{\\partial^2 \\ln Z}{\\partial T^2} \\right|_V \\right)$$"
   ]
  },
  {
   "cell_type": "code",
   "execution_count": 12,
   "metadata": {
    "execution": {
     "iopub.execute_input": "2024-03-11T11:28:13.730425Z",
     "iopub.status.busy": "2024-03-11T11:28:13.730182Z",
     "iopub.status.idle": "2024-03-11T11:28:13.734057Z",
     "shell.execute_reply": "2024-03-11T11:28:13.733393Z",
     "shell.execute_reply.started": "2024-03-11T11:28:13.730404Z"
    },
    "scene__Initialization": true,
    "tags": []
   },
   "outputs": [],
   "source": [
    "def heat_cap_v(eig_vals: np.ndarray, k_B: float,\n",
    "               T: float, delta_T: float) -> float:\n",
    "    \"\"\"Returns the heat capacity of the system.\n",
    "\n",
    "    Args:\n",
    "        eig_vals (ndarray): eigenvalues (energy levels) of the system\n",
    "        k_B (float): Boltzman's constant\n",
    "        T (float): temperature\n",
    "        delta_T (float): differentiation step\n",
    "\n",
    "    Returns:\n",
    "        float: heat capacity of the system at the temperature T\n",
    "    \"\"\"\n",
    "    return k_B * T * (2 * d_ln_Z_dT(eig_vals=eig_vals, k_B=k_B, T=T, delta_T=delta_T) + \n",
    "                      T * d2_ln_Z_d2T(eig_vals=eig_vals, k_B=k_B, T=T, delta_T=delta_T))"
   ]
  },
  {
   "cell_type": "markdown",
   "metadata": {},
   "source": [
    "$$m = - \\left. \\frac{\\partial F}{\\partial \\epsilon} \\right|_T = \\lim_{\\delta \\epsilon \\rightarrow 0} \\frac{F_\\epsilon - F_{\\epsilon + \\delta \\epsilon}}{\\delta \\epsilon}$$"
   ]
  },
  {
   "cell_type": "code",
   "execution_count": 42,
   "metadata": {
    "execution": {
     "iopub.execute_input": "2024-03-11T11:28:15.836833Z",
     "iopub.status.busy": "2024-03-11T11:28:15.836453Z",
     "iopub.status.idle": "2024-03-11T11:28:15.844402Z",
     "shell.execute_reply": "2024-03-11T11:28:15.843601Z",
     "shell.execute_reply.started": "2024-03-11T11:28:15.836798Z"
    },
    "scene__Initialization": true,
    "tags": []
   },
   "outputs": [],
   "source": [
    "def magnetization_T(N_i: int, N_j: int, k_B: float, BC_type: str,\n",
    "                    epsilon: float, delta_epsilon: float,\n",
    "                    J: float, T: float) -> float:\n",
    "    \"\"\"Returns the magnetization of the system at temperature T.\n",
    "\n",
    "    Args:\n",
    "        N_i (int): number of rows\n",
    "        N_j (int): number of columns\n",
    "        k_B (float): Boltzman's constant\n",
    "        BC_type (str): type of the boundary conditions:\n",
    "            'PBC' (Periodic Boundary Condition),\n",
    "            'APBC' (Anti-Periodic Boundary Condition).\n",
    "        epsilon (float): intensity of the magnetic field\n",
    "        delta_epsilon (float): differentiation step\n",
    "        J (float): exchange energy\n",
    "        T (float): temperature\n",
    "\n",
    "    Returns:\n",
    "        float: magnetization\n",
    "    \"\"\"\n",
    "    H_1 = hamiltonian(N_i=N_i, N_j=N_j,\n",
    "                      A_ops=A_operators(N_i=N_i, N_j=N_j),\n",
    "                      BC_type=BC_type, epsilon=epsilon, J=J)\n",
    "    H_2 = hamiltonian(N_i=N_i, N_j=N_j,\n",
    "                      A_ops=A_operators(N_i=N_i, N_j=N_j),\n",
    "                      BC_type=BC_type, epsilon=epsilon+delta_epsilon, J=J)\n",
    "    eig_vals_1, _, _ = eigens(H_op=H_1)\n",
    "    eig_vals_2, _, _ = eigens(H_op=H_2)\n",
    "    # Passing eigenvalues to the partition function and calculating F\n",
    "    F_1 = helmholtz(k_B=k_B, T=T, Z=partition(eig_vals=eig_vals_1, k_B=k_B, T=T))\n",
    "    F_2 = helmholtz(k_B=k_B, T=T, Z=partition(eig_vals=eig_vals_2, k_B=k_B, T=T))\n",
    "    \n",
    "    return (F_1 - F_2) / delta_epsilon"
   ]
  },
  {
   "cell_type": "markdown",
   "metadata": {},
   "source": [
    "# Computation"
   ]
  },
  {
   "cell_type": "markdown",
   "metadata": {},
   "source": [
    "## Parameters"
   ]
  },
  {
   "cell_type": "code",
   "execution_count": 35,
   "metadata": {
    "editable": true,
    "execution": {
     "iopub.execute_input": "2024-03-11T11:28:34.235337Z",
     "iopub.status.busy": "2024-03-11T11:28:34.234421Z",
     "iopub.status.idle": "2024-03-11T11:28:34.244527Z",
     "shell.execute_reply": "2024-03-11T11:28:34.242971Z",
     "shell.execute_reply.started": "2024-03-11T11:28:34.235251Z"
    },
    "scene__Default Scene": true,
    "slideshow": {
     "slide_type": ""
    }
   },
   "outputs": [],
   "source": [
    "# Number of rows and columns\n",
    "N_i, N_j        = 3, 3\n",
    "# Magnetic field\n",
    "epsilon         = 0\n",
    "# Exchange energy\n",
    "J               = -1\n",
    "# Temperature\n",
    "T               = 0\n",
    "# Type of the boundary condition\n",
    "BC_type         = 'PBC'\n",
    "# Differentiation steps\n",
    "delta_epsilon   = 0.1\n",
    "delta_T         = 1e-5\n",
    "# Boltzman's constant\n",
    "k_B             = 1"
   ]
  },
  {
   "cell_type": "markdown",
   "metadata": {},
   "source": [
    "## T = 0"
   ]
  },
  {
   "cell_type": "code",
   "execution_count": 36,
   "metadata": {
    "execution": {
     "iopub.execute_input": "2024-03-11T11:28:36.421676Z",
     "iopub.status.busy": "2024-03-11T11:28:36.419803Z",
     "iopub.status.idle": "2024-03-11T11:28:36.476098Z",
     "shell.execute_reply": "2024-03-11T11:28:36.474930Z",
     "shell.execute_reply.started": "2024-03-11T11:28:36.421543Z"
    }
   },
   "outputs": [
    {
     "name": "stdout",
     "output_type": "stream",
     "text": [
      "E_0 =\n",
      "\t -18.0\n",
      "M_0 =\n",
      "\t 9.0\n",
      "Z =\n",
      "\t inf\n",
      "F =\n",
      "\t nan\n",
      "C_V =\n",
      "\t nan\n"
     ]
    },
    {
     "name": "stderr",
     "output_type": "stream",
     "text": [
      "/tmp/ipykernel_20814/143915578.py:14: RuntimeWarning: divide by zero encountered in scalar divide\n",
      "  Z += np.exp(-np.real(energy) / (k_B * T))\n",
      "/tmp/ipykernel_20814/2466187856.py:12: RuntimeWarning: invalid value encountered in scalar multiply\n",
      "  return -k_B * T * np.log(Z)\n",
      "/tmp/ipykernel_20814/143915578.py:14: RuntimeWarning: overflow encountered in exp\n",
      "  Z += np.exp(-np.real(energy) / (k_B * T))\n",
      "/tmp/ipykernel_20814/3190315398.py:13: RuntimeWarning: invalid value encountered in scalar subtract\n",
      "  return (np.log(partition(eig_vals=eig_vals, k_B=k_B, T=T+delta_T))\n"
     ]
    }
   ],
   "source": [
    "A_ops                   = A_operators(N_i=N_i, N_j=N_j)\n",
    "H                       = hamiltonian(N_i=N_i, N_j=N_j, A_ops=A_ops, BC_type=BC_type, epsilon=epsilon, J=J)\n",
    "eig_vals, E_0, psi_0    = eigens(H_op=H)\n",
    "M_0                     = magnetization_0(A_ops=A_ops, psi_0=psi_0)\n",
    "Z                       = partition(eig_vals=eig_vals, k_B=k_B, T=T)\n",
    "F                       = helmholtz(k_B=k_B, T=T, Z=Z)\n",
    "C_v                     = heat_cap_v(eig_vals=eig_vals, k_B=k_B, T=T, delta_T=delta_T)\n",
    "\n",
    "print('E_0 =\\n\\t', E_0)\n",
    "print('M_0 =\\n\\t', M_0)\n",
    "print('Z =\\n\\t', Z)\n",
    "print('F =\\n\\t', F)\n",
    "print('C_V =\\n\\t', C_v)"
   ]
  },
  {
   "cell_type": "markdown",
   "metadata": {},
   "source": [
    "## T > 0"
   ]
  },
  {
   "cell_type": "code",
   "execution_count": 43,
   "metadata": {
    "execution": {
     "iopub.execute_input": "2024-03-11T11:38:30.009434Z",
     "iopub.status.busy": "2024-03-11T11:38:30.008534Z",
     "iopub.status.idle": "2024-03-11T11:39:18.610582Z",
     "shell.execute_reply": "2024-03-11T11:39:18.609611Z",
     "shell.execute_reply.started": "2024-03-11T11:38:30.009388Z"
    }
   },
   "outputs": [
    {
     "name": "stderr",
     "output_type": "stream",
     "text": [
      "/tmp/ipykernel_20814/143915578.py:14: RuntimeWarning: divide by zero encountered in scalar divide\n",
      "  Z += np.exp(-np.real(energy) / (k_B * T))\n",
      "/tmp/ipykernel_20814/2466187856.py:12: RuntimeWarning: invalid value encountered in scalar multiply\n",
      "  return -k_B * T * np.log(Z)\n"
     ]
    },
    {
     "name": "stdout",
     "output_type": "stream",
     "text": [
      "M(T=0) =\n",
      "\tnan\n"
     ]
    },
    {
     "name": "stderr",
     "output_type": "stream",
     "text": [
      "/tmp/ipykernel_20814/143915578.py:14: RuntimeWarning: overflow encountered in exp\n",
      "  Z += np.exp(-np.real(energy) / (k_B * T))\n",
      "/tmp/ipykernel_20814/4038938142.py:33: RuntimeWarning: invalid value encountered in scalar subtract\n",
      "  return (F_1 - F_2) / delta_epsilon\n"
     ]
    },
    {
     "name": "stdout",
     "output_type": "stream",
     "text": [
      "M(T=0.01) =\n",
      "\tnan\n",
      "M(T=0.1) =\n",
      "\t8.306852834669982\n",
      "M(T=0.5) =\n",
      "\t5.6690480009491395\n",
      "M(T=1) =\n",
      "\t3.5942018937280196\n",
      "M(T=10) =\n",
      "\t0.07012207447004926\n"
     ]
    }
   ],
   "source": [
    "A_ops = A_operators(N_i=N_i, N_j=N_j)\n",
    "Ts = [0, 0.01, 0.1, 0.5, 1, 10]\n",
    "for epsilon_ in [0]:\n",
    "    for T_ in Ts:\n",
    "        eig_vals, E_0, psi_0    = eigens(H_op=hamiltonian(N_i=N_i, N_j=N_j,\n",
    "                                                          A_ops=A_ops, BC_type=BC_type,\n",
    "                                                          epsilon=epsilon_, J=J))\n",
    "        M_0                     = magnetization_0(A_ops=A_ops, psi_0=psi_0)\n",
    "        M_T                     = magnetization_T(N_i=N_i, N_j=N_j, k_B=k_B, BC_type=BC_type,\n",
    "                                                  epsilon=epsilon_, delta_epsilon=delta_epsilon,\n",
    "                                                  J=J, T=T_)\n",
    "\n",
    "        print('M(T=' + str(T_) +') =\\n\\t' + str(M_T))"
   ]
  },
  {
   "cell_type": "code",
   "execution_count": null,
   "metadata": {},
   "outputs": [],
   "source": []
  }
 ],
 "metadata": {
  "kernelspec": {
   "display_name": "Python 3 (ipykernel)",
   "language": "python",
   "name": "python3"
  },
  "language_info": {
   "codemirror_mode": {
    "name": "ipython",
    "version": 3
   },
   "file_extension": ".py",
   "mimetype": "text/x-python",
   "name": "python",
   "nbconvert_exporter": "python",
   "pygments_lexer": "ipython3",
   "version": "3.10.12"
  },
  "scenes_data": {
   "active_scene": "Initialization",
   "init_scene": null,
   "scenes": [
    "Initialization",
    "Default Scene"
   ]
  }
 },
 "nbformat": 4,
 "nbformat_minor": 4
}
