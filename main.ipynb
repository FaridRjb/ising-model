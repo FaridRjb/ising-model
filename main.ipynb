{
 "cells": [
  {
   "cell_type": "code",
   "execution_count": 1,
   "metadata": {
    "execution": {
     "iopub.execute_input": "2024-03-02T15:29:43.079860Z",
     "iopub.status.busy": "2024-03-02T15:29:43.079503Z",
     "iopub.status.idle": "2024-03-02T15:29:43.223781Z",
     "shell.execute_reply": "2024-03-02T15:29:43.223111Z",
     "shell.execute_reply.started": "2024-03-02T15:29:43.079829Z"
    }
   },
   "outputs": [],
   "source": [
    "import numpy as np\n",
    "import datetime"
   ]
  },
  {
   "cell_type": "code",
   "execution_count": 2,
   "metadata": {
    "execution": {
     "iopub.execute_input": "2024-03-02T15:29:43.224720Z",
     "iopub.status.busy": "2024-03-02T15:29:43.224383Z",
     "iopub.status.idle": "2024-03-02T15:29:43.228248Z",
     "shell.execute_reply": "2024-03-02T15:29:43.227742Z",
     "shell.execute_reply.started": "2024-03-02T15:29:43.224698Z"
    }
   },
   "outputs": [],
   "source": [
    "N = 3\n",
    "EPSILON = 1\n",
    "J = 3\n",
    "\n",
    "PAULI_Z = np.array([[1, 0],\n",
    "                    [0, -1]])\n",
    "IDENTITY = np.array([[1, 0],\n",
    "                     [0, 1]])"
   ]
  },
  {
   "cell_type": "code",
   "execution_count": 3,
   "metadata": {
    "execution": {
     "iopub.execute_input": "2024-03-02T15:29:43.229803Z",
     "iopub.status.busy": "2024-03-02T15:29:43.229551Z",
     "iopub.status.idle": "2024-03-02T15:29:43.233341Z",
     "shell.execute_reply": "2024-03-02T15:29:43.232695Z",
     "shell.execute_reply.started": "2024-03-02T15:29:43.229783Z"
    }
   },
   "outputs": [],
   "source": [
    "def n_identities(n: int):\n",
    "    \"\"\"Gives a tensor made out of the tensor product on 'n' identity matrices.\n",
    "\n",
    "    Args:\n",
    "        n (int): the number of identity matrices\n",
    "\n",
    "    Returns:\n",
    "        np.ndarray: the resultant matrix (tensor)\n",
    "    \"\"\"\n",
    "    return np.identity(2**n) if (n > 0) else 1\n",
    "\n",
    "\n",
    "time = datetime.datetime"
   ]
  },
  {
   "cell_type": "code",
   "execution_count": 4,
   "metadata": {
    "execution": {
     "iopub.execute_input": "2024-03-02T15:29:43.234397Z",
     "iopub.status.busy": "2024-03-02T15:29:43.234048Z",
     "iopub.status.idle": "2024-03-02T15:29:43.239685Z",
     "shell.execute_reply": "2024-03-02T15:29:43.238850Z",
     "shell.execute_reply.started": "2024-03-02T15:29:43.234360Z"
    }
   },
   "outputs": [
    {
     "name": "stdout",
     "output_type": "stream",
     "text": [
      "2024-03-02 18:59:43.236837 Operators A-- created: 3 items\n"
     ]
    }
   ],
   "source": [
    "# A list to store the operators A\n",
    "A_ops = []\n",
    "for i in range(1, N+1):\n",
    "    # A_i = I (x) I (x) ... (x) sigma^Z (x) ... (x) I (x) I\n",
    "    #       \\-------------/                 \\-------------/\n",
    "    #             i-1                             N-i\n",
    "    A_i = np.kron(np.kron(n_identities(i-1), PAULI_Z), n_identities(N-i))\n",
    "    A_ops.append(A_i)\n",
    "\n",
    "print(time.now(), \"Operators A--\", \"created:\", len(A_ops), \"items\")"
   ]
  },
  {
   "cell_type": "code",
   "execution_count": 5,
   "metadata": {
    "execution": {
     "iopub.execute_input": "2024-03-02T15:29:43.240914Z",
     "iopub.status.busy": "2024-03-02T15:29:43.240694Z",
     "iopub.status.idle": "2024-03-02T15:29:43.246744Z",
     "shell.execute_reply": "2024-03-02T15:29:43.245886Z",
     "shell.execute_reply.started": "2024-03-02T15:29:43.240893Z"
    }
   },
   "outputs": [
    {
     "name": "stdout",
     "output_type": "stream",
     "text": [
      "2024-03-02 18:59:43.243253 Hamiltonian-- created\n",
      "[[12.  0.  0.  0.  0.  0.  0.  0.]\n",
      " [ 0. -2.  0.  0.  0.  0.  0.  0.]\n",
      " [ 0.  0. -2.  0.  0.  0.  0.  0.]\n",
      " [ 0.  0.  0. -4.  0.  0.  0.  0.]\n",
      " [ 0.  0.  0.  0. -2.  0.  0.  0.]\n",
      " [ 0.  0.  0.  0.  0. -4.  0.  0.]\n",
      " [ 0.  0.  0.  0.  0.  0. -4.  0.]\n",
      " [ 0.  0.  0.  0.  0.  0.  0.  6.]]\n"
     ]
    }
   ],
   "source": [
    "# Creating the Hamiltonian\n",
    "hamiltonian = np.zeros((2**N, 2**N), dtype=float)\n",
    "for i in range(N):\n",
    "    # H = sum_i{ epsilon_i A_i } + sum_<ij>{ J A_i A_i+1 }\n",
    "    hamiltonian += EPSILON * A_ops[i] \\\n",
    "                + J * np.matmul(A_ops[i], A_ops[i+1 if (i+1 < N) else 0])\n",
    "\n",
    "print(time.now(), \"Hamiltonian--\", \"created\")\n",
    "print(hamiltonian)"
   ]
  },
  {
   "cell_type": "code",
   "execution_count": 6,
   "metadata": {
    "execution": {
     "iopub.execute_input": "2024-03-02T15:29:43.247701Z",
     "iopub.status.busy": "2024-03-02T15:29:43.247447Z",
     "iopub.status.idle": "2024-03-02T15:29:43.253697Z",
     "shell.execute_reply": "2024-03-02T15:29:43.252899Z",
     "shell.execute_reply.started": "2024-03-02T15:29:43.247678Z"
    }
   },
   "outputs": [
    {
     "name": "stdout",
     "output_type": "stream",
     "text": [
      "2024-03-02 18:59:43.249982 E_0: -4.0\n",
      "[[ 0.  0.  0.]\n",
      " [ 0.  0.  0.]\n",
      " [ 0.  0.  0.]\n",
      " [-1.  0.  0.]\n",
      " [ 0.  0.  0.]\n",
      " [ 0. -1.  0.]\n",
      " [ 0.  0. -1.]\n",
      " [ 0.  0.  0.]]\n"
     ]
    }
   ],
   "source": [
    "# Eigenvalues and their corresponding eigenvectors\n",
    "eig_vals, eig_vecs = np.linalg.eig(hamiltonian)\n",
    "# The state with the lowest energy\n",
    "E_0 = min(eig_vals)\n",
    "PSI_0 = eig_vecs[eig_vals == E_0].transpose()\n",
    "\n",
    "print(time.now(), \"E_0:\", min(eig_vals))\n",
    "\n",
    "M = np.zeros((2**N, 2**N), dtype=float)\n",
    "for A in A_ops:\n",
    "    M += A\n",
    "\n",
    "print(np.matmul(M, PSI_0))"
   ]
  },
  {
   "cell_type": "code",
   "execution_count": null,
   "metadata": {},
   "outputs": [],
   "source": []
  }
 ],
 "metadata": {
  "kernelspec": {
   "display_name": "Python 3 (ipykernel)",
   "language": "python",
   "name": "python3"
  },
  "language_info": {
   "codemirror_mode": {
    "name": "ipython",
    "version": 3
   },
   "file_extension": ".py",
   "mimetype": "text/x-python",
   "name": "python",
   "nbconvert_exporter": "python",
   "pygments_lexer": "ipython3",
   "version": "3.10.12"
  }
 },
 "nbformat": 4,
 "nbformat_minor": 4
}
