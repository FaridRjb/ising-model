{
 "cells": [
  {
   "cell_type": "code",
   "execution_count": 1,
   "metadata": {
    "execution": {
     "iopub.execute_input": "2024-03-02T17:14:57.548099Z",
     "iopub.status.busy": "2024-03-02T17:14:57.547364Z",
     "iopub.status.idle": "2024-03-02T17:14:57.694132Z",
     "shell.execute_reply": "2024-03-02T17:14:57.693510Z",
     "shell.execute_reply.started": "2024-03-02T17:14:57.548034Z"
    }
   },
   "outputs": [],
   "source": [
    "import numpy as np\n",
    "import datetime"
   ]
  },
  {
   "cell_type": "code",
   "execution_count": 2,
   "metadata": {
    "execution": {
     "iopub.execute_input": "2024-03-02T17:14:57.695140Z",
     "iopub.status.busy": "2024-03-02T17:14:57.694853Z",
     "iopub.status.idle": "2024-03-02T17:14:57.698657Z",
     "shell.execute_reply": "2024-03-02T17:14:57.698062Z",
     "shell.execute_reply.started": "2024-03-02T17:14:57.695116Z"
    }
   },
   "outputs": [],
   "source": [
    "N = 3\n",
    "epsilon = 1\n",
    "J = 3\n",
    "\n",
    "pauli_z = np.array([[1, 0],\n",
    "                    [0, -1]])"
   ]
  },
  {
   "cell_type": "code",
   "execution_count": 3,
   "metadata": {
    "execution": {
     "iopub.execute_input": "2024-03-02T17:14:57.700333Z",
     "iopub.status.busy": "2024-03-02T17:14:57.700135Z",
     "iopub.status.idle": "2024-03-02T17:14:57.703473Z",
     "shell.execute_reply": "2024-03-02T17:14:57.703009Z",
     "shell.execute_reply.started": "2024-03-02T17:14:57.700313Z"
    }
   },
   "outputs": [],
   "source": [
    "def n_identities(n: int):\n",
    "    \"\"\"Gives a tensor made out of the tensor product on 'n' identity matrices.\n",
    "\n",
    "    Args:\n",
    "        n (int): the number of identity matrices\n",
    "\n",
    "    Returns:\n",
    "        np.ndarray: the resultant matrix (tensor)\n",
    "    \"\"\"\n",
    "    return np.identity(2**n) if (n > 0) else 1"
   ]
  },
  {
   "cell_type": "markdown",
   "metadata": {},
   "source": [
    "$$\\mathbf{A}_i = \\underbrace{\\overbrace{\\mathbf{I} \\otimes \\mathbf{I} \\otimes \\ldots}^{i - 1\\ \\text{operators}} \\otimes \\sigma^z \\otimes \\overbrace{\\ldots \\otimes \\mathbf{I} \\otimes \\mathbf{I}}^{N - 1\\ \\text{operators}}}_{N\\ \\text{operators}}$$"
   ]
  },
  {
   "cell_type": "code",
   "execution_count": 4,
   "metadata": {
    "execution": {
     "iopub.execute_input": "2024-03-02T17:14:57.704280Z",
     "iopub.status.busy": "2024-03-02T17:14:57.704095Z",
     "iopub.status.idle": "2024-03-02T17:14:57.707658Z",
     "shell.execute_reply": "2024-03-02T17:14:57.707214Z",
     "shell.execute_reply.started": "2024-03-02T17:14:57.704262Z"
    }
   },
   "outputs": [],
   "source": [
    "# A list to store the operators A\n",
    "A_ops = []\n",
    "for i in range(1, N+1):\n",
    "    A_i = np.kron(np.kron(n_identities(i-1), pauli_z), n_identities(N-i))\n",
    "    A_ops.append(A_i)\n",
    "\n",
    "A_ops = np.array(A_ops)"
   ]
  },
  {
   "cell_type": "markdown",
   "metadata": {},
   "source": [
    "$$\\mathbf{H} = \\epsilon \\sum_{i}^{N} \\mathbf{A}_i +J \\sum_{\\left< i j \\right>} \\mathbf{A}_i \\mathbf{A}_{i + 1}$$"
   ]
  },
  {
   "cell_type": "code",
   "execution_count": 5,
   "metadata": {
    "execution": {
     "iopub.execute_input": "2024-03-02T17:14:57.708683Z",
     "iopub.status.busy": "2024-03-02T17:14:57.708271Z",
     "iopub.status.idle": "2024-03-02T17:14:57.712966Z",
     "shell.execute_reply": "2024-03-02T17:14:57.712420Z",
     "shell.execute_reply.started": "2024-03-02T17:14:57.708663Z"
    }
   },
   "outputs": [
    {
     "name": "stdout",
     "output_type": "stream",
     "text": [
      "Hamiltonian =\n",
      " [[12.  0.  0.  0.  0.  0.  0.  0.]\n",
      " [ 0. -2.  0.  0.  0.  0.  0.  0.]\n",
      " [ 0.  0. -2.  0.  0.  0.  0.  0.]\n",
      " [ 0.  0.  0. -4.  0.  0.  0.  0.]\n",
      " [ 0.  0.  0.  0. -2.  0.  0.  0.]\n",
      " [ 0.  0.  0.  0.  0. -4.  0.  0.]\n",
      " [ 0.  0.  0.  0.  0.  0. -4.  0.]\n",
      " [ 0.  0.  0.  0.  0.  0.  0.  6.]]\n"
     ]
    }
   ],
   "source": [
    "# Creating the Hamiltonian\n",
    "H = np.zeros((2**N, 2**N), dtype=float)\n",
    "for i in range(N):\n",
    "    H += epsilon * A_ops[i] + J * np.matmul(A_ops[i], A_ops[i+1 if (i+1 < N) else 0])\n",
    "\n",
    "print(\"Hamiltonian =\\n\", H)"
   ]
  },
  {
   "cell_type": "code",
   "execution_count": 6,
   "metadata": {
    "editable": true,
    "execution": {
     "iopub.execute_input": "2024-03-02T17:14:57.713849Z",
     "iopub.status.busy": "2024-03-02T17:14:57.713658Z",
     "iopub.status.idle": "2024-03-02T17:14:57.717821Z",
     "shell.execute_reply": "2024-03-02T17:14:57.717370Z",
     "shell.execute_reply.started": "2024-03-02T17:14:57.713831Z"
    },
    "slideshow": {
     "slide_type": ""
    },
    "tags": []
   },
   "outputs": [
    {
     "name": "stdout",
     "output_type": "stream",
     "text": [
      "E_0 degeneracy =\n",
      " 3\n",
      "E_0 =\n",
      " -4.0\n"
     ]
    }
   ],
   "source": [
    "# Eigenvalues and their corresponding eigenvectors\n",
    "eig_vals, eig_vecs = np.linalg.eig(H)\n",
    "# The lowest energy\n",
    "E_0 = min(eig_vals)\n",
    "# The state with the lowest energy\n",
    "psi_0 = eig_vecs[eig_vals == E_0].T\n",
    "psi_0_row, psi_0_col = psi_0.shape\n",
    "if psi_0_col > 1:\n",
    "    psi_0 = psi_0[:,0].reshape(-1, 1)\n",
    "    print(\"E_0 degeneracy =\\n\", psi_0_col)\n",
    "\n",
    "print(\"E_0 =\\n\", min(eig_vals))"
   ]
  },
  {
   "cell_type": "markdown",
   "metadata": {},
   "source": [
    "$$\\mathbf{M} = \\sum_{i = 1}^{N} \\mathbf{A}_i, \\quad M_0 = \\left< \\psi_0 \\right| \\mathbf{M} \\left| \\psi_0 \\right>$$"
   ]
  },
  {
   "cell_type": "code",
   "execution_count": 7,
   "metadata": {
    "execution": {
     "iopub.execute_input": "2024-03-02T17:14:57.718891Z",
     "iopub.status.busy": "2024-03-02T17:14:57.718525Z",
     "iopub.status.idle": "2024-03-02T17:14:57.722717Z",
     "shell.execute_reply": "2024-03-02T17:14:57.721930Z",
     "shell.execute_reply.started": "2024-03-02T17:14:57.718871Z"
    }
   },
   "outputs": [
    {
     "name": "stdout",
     "output_type": "stream",
     "text": [
      "M =\n",
      " -1.0\n"
     ]
    }
   ],
   "source": [
    "# Magnetization operator\n",
    "M_op = A_ops.sum(axis=0)\n",
    "M = np.matmul(psi_0.conjugate().T, np.matmul(M_op, psi_0))[0,0]\n",
    "\n",
    "print(\"M =\\n\", M)"
   ]
  },
  {
   "cell_type": "code",
   "execution_count": null,
   "metadata": {},
   "outputs": [],
   "source": []
  }
 ],
 "metadata": {
  "kernelspec": {
   "display_name": "Python 3 (ipykernel)",
   "language": "python",
   "name": "python3"
  },
  "language_info": {
   "codemirror_mode": {
    "name": "ipython",
    "version": 3
   },
   "file_extension": ".py",
   "mimetype": "text/x-python",
   "name": "python",
   "nbconvert_exporter": "python",
   "pygments_lexer": "ipython3",
   "version": "3.10.12"
  }
 },
 "nbformat": 4,
 "nbformat_minor": 4
}
